{
  "nbformat": 4,
  "nbformat_minor": 0,
  "metadata": {
    "colab": {
      "provenance": []
    },
    "kernelspec": {
      "name": "python3",
      "display_name": "Python 3"
    },
    "language_info": {
      "name": "python"
    }
  },
  "cells": [
    {
      "cell_type": "code",
      "execution_count": null,
      "metadata": {
        "id": "j11xyIk8GOEh",
        "colab": {
          "base_uri": "https://localhost:8080/"
        },
        "outputId": "974230e7-9173-4672-db3e-62b2eaa7fbe2"
      },
      "outputs": [
        {
          "output_type": "stream",
          "name": "stdout",
          "text": [
            "Mounted at /content/drive\n"
          ]
        }
      ],
      "source": [
        "from google.colab import drive\n",
        "drive.mount('/content/drive')"
      ]
    },
    {
      "cell_type": "code",
      "source": [
        "import tensorflow as tf\n",
        "from tensorflow import keras\n",
        "from tensorflow.keras import layers\n",
        "from tensorflow.keras.preprocessing.image import ImageDataGenerator\n",
        "# Define image size and batch size\n",
        "IMG_SIZE = 224\n",
        "BATCH_SIZE = 32"
      ],
      "metadata": {
        "id": "MlN-aBzPh8ug"
      },
      "execution_count": null,
      "outputs": []
    },
    {
      "cell_type": "code",
      "source": [
        "# Define data generators for train, validation and test sets\n",
        "train_datagen = ImageDataGenerator(\n",
        "    rescale=1./255,\n",
        "    validation_split=0.2\n",
        ")\n",
        "\n",
        "train_generator = train_datagen.flow_from_directory('/content/drive/MyDrive/Brain_Tumor_Detection/train',target_size=(IMG_SIZE, IMG_SIZE),\n",
        "    batch_size=BATCH_SIZE,\n",
        "    class_mode='binary',\n",
        "    subset='training'\n",
        ")\n",
        "\n",
        "val_generator = train_datagen.flow_from_directory('/content/drive/MyDrive/Brain_Tumor_Detection/train',\n",
        "    target_size=(IMG_SIZE, IMG_SIZE),\n",
        "    batch_size=BATCH_SIZE,\n",
        "    class_mode='binary',\n",
        "    subset='validation'\n",
        ")\n",
        "\n",
        "test_datagen = ImageDataGenerator(rescale=1./255)\n",
        "\n",
        "test_generator = test_datagen.flow_from_directory('/content/drive/MyDrive/Brain_Tumor_Detection/test',target_size=(IMG_SIZE, IMG_SIZE),batch_size=BATCH_SIZE,class_mode='binary')"
      ],
      "metadata": {
        "colab": {
          "base_uri": "https://localhost:8080/"
        },
        "id": "2LKXYjMYiZ6G",
        "outputId": "a0fb190a-deb5-4410-a1eb-0b7444ac9edf"
      },
      "execution_count": 7,
      "outputs": [
        {
          "output_type": "stream",
          "name": "stdout",
          "text": [
            "Found 2400 images belonging to 2 classes.\n",
            "Found 600 images belonging to 2 classes.\n",
            "Found 0 images belonging to 0 classes.\n"
          ]
        }
      ]
    },
    {
      "cell_type": "code",
      "source": [
        "# Define the model\n",
        "model = keras.Sequential([\n",
        "    layers.Conv2D(32, (3, 3), activation='relu', input_shape=(IMG_SIZE, IMG_SIZE, 3)),\n",
        "    layers.MaxPooling2D((2, 2)),\n",
        "    layers.Conv2D(64, (3, 3), activation='relu'),\n",
        "    layers.MaxPooling2D((2, 2)),\n",
        "    layers.Conv2D(128, (3, 3), activation='relu'),\n",
        "    layers.MaxPooling2D((2, 2)),\n",
        "    layers.Flatten(),\n",
        "    layers.Dense(128, activation='relu'),\n",
        "    layers.Dense(1, activation='sigmoid')\n",
        "])"
      ],
      "metadata": {
        "id": "BUSpwGtZiovn"
      },
      "execution_count": 8,
      "outputs": []
    },
    {
      "cell_type": "code",
      "source": [
        "# Compile the model\n",
        "model.compile(optimizer='adam', loss='binary_crossentropy', metrics=['accuracy'])"
      ],
      "metadata": {
        "id": "sveTYFsviv6P"
      },
      "execution_count": 9,
      "outputs": []
    },
    {
      "cell_type": "code",
      "source": [
        "history = model.fit(train_generator,validation_data=val_generator,epochs=5)#training the data"
      ],
      "metadata": {
        "id": "PLK88RlkjCIH",
        "colab": {
          "base_uri": "https://localhost:8080/"
        },
        "outputId": "bfdc7569-e722-4cc3-a574-eac13984517b"
      },
      "execution_count": 10,
      "outputs": [
        {
          "output_type": "stream",
          "name": "stdout",
          "text": [
            "Epoch 1/5\n",
            "75/75 [==============================] - 333s 4s/step - loss: 0.5312 - accuracy: 0.7554 - val_loss: 0.3304 - val_accuracy: 0.8633\n",
            "Epoch 2/5\n",
            "75/75 [==============================] - 315s 4s/step - loss: 0.2464 - accuracy: 0.9029 - val_loss: 0.2238 - val_accuracy: 0.9033\n",
            "Epoch 3/5\n",
            "75/75 [==============================] - 309s 4s/step - loss: 0.1315 - accuracy: 0.9538 - val_loss: 0.0504 - val_accuracy: 0.9833\n",
            "Epoch 4/5\n",
            "75/75 [==============================] - 291s 4s/step - loss: 0.0530 - accuracy: 0.9858 - val_loss: 0.0220 - val_accuracy: 0.9967\n",
            "Epoch 5/5\n",
            "75/75 [==============================] - 315s 4s/step - loss: 0.0231 - accuracy: 0.9942 - val_loss: 0.0312 - val_accuracy: 0.9833\n"
          ]
        }
      ]
    },
    {
      "cell_type": "code",
      "source": [
        "model.save(\"Model.h5\",\"label.txt\")"
      ],
      "metadata": {
        "id": "IBKctlA5jCW9",
        "colab": {
          "base_uri": "https://localhost:8080/"
        },
        "outputId": "a90441ef-2f12-4ef4-d611-2279617f668b"
      },
      "execution_count": 11,
      "outputs": [
        {
          "output_type": "stream",
          "name": "stderr",
          "text": [
            "/usr/local/lib/python3.10/dist-packages/keras/src/engine/training.py:3103: UserWarning: You are saving your model as an HDF5 file via `model.save()`. This file format is considered legacy. We recommend using instead the native Keras format, e.g. `model.save('my_model.keras')`.\n",
            "  saving_api.save_model(\n"
          ]
        }
      ]
    },
    {
      "cell_type": "code",
      "source": [
        "#test your image\n",
        "from keras.models import load_model  # TensorFlow is required for Keras to work\n",
        "from PIL import Image, ImageOps  # Install pillow instead of PIL\n",
        "import numpy as np\n",
        "\n",
        "#load the model\n",
        "model = load_model('/content/Model.h5')\n",
        "#classes\n",
        "class_names = ['You have Brain Tumor','You do not have Brain Tumor']\n",
        "data = np.ndarray(shape=(1, 224, 224, 3), dtype=np.float32)"
      ],
      "metadata": {
        "id": "QtAK18vkjClC"
      },
      "execution_count": 12,
      "outputs": []
    },
    {
      "cell_type": "code",
      "source": [
        "image = Image.open(\"/content/drive/MyDrive/Brain_Tumor_Detection/test/pred1.jpg\").convert(\"RGB\")\n",
        "\n",
        "# resizing the image to be at least 224x224 and then cropping from the center\n",
        "size = (224, 224)\n",
        "image = ImageOps.fit(image, size, Image.Resampling.LANCZOS)\n",
        "\n",
        "# turn the image into a numpy array\n",
        "image_array = np.asarray(image)\n",
        "\n",
        "# Normalize the image\n",
        "normalized_image_array = (image_array.astype(np.float32) / 127.5) - 1\n",
        "\n",
        "# Load the image into the array\n",
        "data[0] = normalized_image_array"
      ],
      "metadata": {
        "id": "XHDBZL6ejecG"
      },
      "execution_count": 16,
      "outputs": []
    },
    {
      "cell_type": "code",
      "source": [
        "# Predicts the model\n",
        "prediction = model.predict(data)\n",
        "index = np.argmax(prediction)\n",
        "confidence_score = prediction[0][index]\n",
        "# Print prediction and confidence score\n",
        "print(\"Result: \", class_names[index], end=\"\")\n",
        "print(\"\\n\")\n",
        "print(\"Accuracy: \", confidence_score)"
      ],
      "metadata": {
        "id": "ZWRkSWmAjioE",
        "colab": {
          "base_uri": "https://localhost:8080/"
        },
        "outputId": "cc41d352-098f-4e90-d104-2d1fd286b82f"
      },
      "execution_count": 15,
      "outputs": [
        {
          "output_type": "stream",
          "name": "stdout",
          "text": [
            "1/1 [==============================] - 0s 136ms/step\n",
            "Result:  You have Brain Tumor\n",
            "\n",
            "Accuracy:  1.0\n"
          ]
        }
      ]
    }
  ]
}